{
 "cells": [
  {
   "cell_type": "markdown",
   "id": "b3253979-0c0a-49b1-9563-fa895b9cbe78",
   "metadata": {},
   "source": [
    "#   Python List Comprehensions "
   ]
  },
  {
   "cell_type": "markdown",
   "id": "ee47ff5f-c6b8-4c8e-8e36-280ddd1ce399",
   "metadata": {},
   "source": [
    "Createing a List"
   ]
  },
  {
   "cell_type": "code",
   "execution_count": 1,
   "id": "e0f0d303-f667-4186-8659-83ffdcb322f7",
   "metadata": {},
   "outputs": [],
   "source": [
    "# create a list from 1 to 10\n",
    "# simple Approach"
   ]
  },
  {
   "cell_type": "code",
   "execution_count": 5,
   "id": "88a90d35-6b14-44cc-bb7e-4c13e108d54b",
   "metadata": {},
   "outputs": [
    {
     "name": "stdout",
     "output_type": "stream",
     "text": [
      "[1, 2, 3, 4, 5, 6, 7, 8, 9, 10]\n"
     ]
    }
   ],
   "source": [
    "list1 = []\n",
    "for i in range(1,11):\n",
    "    list1.append(i)\n",
    "print(list1)    "
   ]
  },
  {
   "cell_type": "code",
   "execution_count": 3,
   "id": "a248dd32-1745-419d-a326-5fe0ee4864eb",
   "metadata": {},
   "outputs": [],
   "source": [
    "# using list comprehensions"
   ]
  },
  {
   "cell_type": "code",
   "execution_count": 4,
   "id": "72212703-b143-4b13-b11b-f54b68a17a6a",
   "metadata": {},
   "outputs": [
    {
     "name": "stdout",
     "output_type": "stream",
     "text": [
      "[1, 2, 3, 4, 5, 6, 7, 8, 9, 10]\n"
     ]
    }
   ],
   "source": [
    "list1 = [i for i in range(1,11)]\n",
    "print(list1)"
   ]
  },
  {
   "cell_type": "code",
   "execution_count": 8,
   "id": "9d6bba5c-d028-41ee-9401-8d5e4f71e788",
   "metadata": {},
   "outputs": [
    {
     "name": "stdout",
     "output_type": "stream",
     "text": [
      "[1, 4, 9, 16, 25, 36, 49, 64, 81, 100]\n"
     ]
    }
   ],
   "source": [
    "list2 = [1, 2, 3, 4, 5, 6, 7, 8, 9, 10]\n",
    "#making square of the list\n",
    "# simple Approach\n",
    "list3 = []\n",
    "for i in list2:\n",
    "    list3.append(i**2)\n",
    "    \n",
    "print(list3)"
   ]
  },
  {
   "cell_type": "code",
   "execution_count": 12,
   "id": "08d53412-9d83-4d9f-870c-9585555f7e69",
   "metadata": {},
   "outputs": [
    {
     "data": {
      "text/plain": [
       "[1, 4, 9, 16, 25, 36, 49, 64, 81, 100]"
      ]
     },
     "execution_count": 12,
     "metadata": {},
     "output_type": "execute_result"
    }
   ],
   "source": [
    "# using list comprehensions\n",
    "list4 = [i**2 for i in list2]\n",
    "list4"
   ]
  },
  {
   "cell_type": "code",
   "execution_count": 15,
   "id": "ff1a53f2-cccc-4549-a156-d17aad564c8e",
   "metadata": {},
   "outputs": [
    {
     "name": "stdout",
     "output_type": "stream",
     "text": [
      "[4, 16, 36, 64, 100]\n"
     ]
    }
   ],
   "source": [
    "# only making square of even numbers\n",
    "# simple approach\n",
    "list2 = [1, 2, 3, 4, 5, 6, 7, 8, 9, 10]\n",
    "list3 = []\n",
    "for i in list2:\n",
    "    if i%2==0:\n",
    "        list3.append(i**2)\n",
    "print(list3)        "
   ]
  },
  {
   "cell_type": "code",
   "execution_count": 20,
   "id": "9e5501ae-40e3-46d3-820e-3ce06963f568",
   "metadata": {},
   "outputs": [
    {
     "data": {
      "text/plain": [
       "[4, 16, 36, 64, 100]"
      ]
     },
     "execution_count": 20,
     "metadata": {},
     "output_type": "execute_result"
    }
   ],
   "source": [
    "# using list comprehensions\n",
    "\n",
    "list2 = [1, 2, 3, 4, 5, 6, 7, 8, 9, 10]\n",
    "list3 = [i**2 for i in list2 if i%2==0 ]\n",
    "list3"
   ]
  },
  {
   "cell_type": "code",
   "execution_count": 22,
   "id": "9eebe04e-858b-4c4e-ba57-4937358abe5c",
   "metadata": {},
   "outputs": [],
   "source": [
    "# now we will do square for even numbers and cube for odd numbers"
   ]
  },
  {
   "cell_type": "code",
   "execution_count": 27,
   "id": "22e18853-1cb9-4126-9dcb-0555e90be4f8",
   "metadata": {},
   "outputs": [
    {
     "data": {
      "text/plain": [
       "[1, 4, 27, 16, 125, 36, 343, 64, 729, 100]"
      ]
     },
     "execution_count": 27,
     "metadata": {},
     "output_type": "execute_result"
    }
   ],
   "source": [
    "# simple approach \n",
    "list2 = [1, 2, 3, 4, 5, 6, 7, 8, 9, 10]\n",
    "list3 = []\n",
    "for i in list2:\n",
    "    if i%2==0:\n",
    "        list3.append(i**2)\n",
    "    else:\n",
    "        list3.append(i**3)\n",
    "list3        "
   ]
  },
  {
   "cell_type": "code",
   "execution_count": 35,
   "id": "dd7409d9-9b92-4e91-9bd3-f97315ebc246",
   "metadata": {},
   "outputs": [
    {
     "data": {
      "text/plain": [
       "[1, 4, 27, 16, 125, 36, 343, 64, 729, 100]"
      ]
     },
     "execution_count": 35,
     "metadata": {},
     "output_type": "execute_result"
    }
   ],
   "source": [
    "# using list comprehensions\n",
    "list2 = [1, 2, 3, 4, 5, 6, 7, 8, 9, 10]\n",
    "list3 = [i**2 if i%2==0 else i**3 for i in list2]\n",
    "list3"
   ]
  },
  {
   "cell_type": "markdown",
   "id": "c05b99c4-e6b0-47f0-b7dc-84581675eb8a",
   "metadata": {},
   "source": [
    "# Nested Loop"
   ]
  },
  {
   "cell_type": "code",
   "execution_count": 37,
   "id": "77ff0c63-0a90-4719-8742-ff10694401e6",
   "metadata": {},
   "outputs": [],
   "source": [
    "# flatten a list"
   ]
  },
  {
   "cell_type": "code",
   "execution_count": 39,
   "id": "abcd7637-d649-4b14-a346-aa8c70998647",
   "metadata": {},
   "outputs": [
    {
     "data": {
      "text/plain": [
       "[1, 2, 3, 4, 5, 6, 7, 8, 9]"
      ]
     },
     "execution_count": 39,
     "metadata": {},
     "output_type": "execute_result"
    }
   ],
   "source": [
    "# simple approach\n",
    "list1 = [[1,2,3],[4,5,6],[7,8,9]]\n",
    "flatten_list = []\n",
    "for outer_item in list1:\n",
    "    for inner_item in outer_item:\n",
    "        flatten_list.append(inner_item)\n",
    "flatten_list    "
   ]
  },
  {
   "cell_type": "code",
   "execution_count": 48,
   "id": "633abc4b-470c-4029-a4c5-64ec2cdc233d",
   "metadata": {},
   "outputs": [
    {
     "data": {
      "text/plain": [
       "[1, 2, 3, 4, 5, 6, 7, 8, 9]"
      ]
     },
     "execution_count": 48,
     "metadata": {},
     "output_type": "execute_result"
    }
   ],
   "source": [
    "# using list comprehensions\n",
    "list1 = [[1,2,3],[4,5,6],[7,8,9]]\n",
    "flatten_list = [inner_item for outer_item in list1 for inner_item in outer_item ]\n",
    "flatten_list"
   ]
  },
  {
   "cell_type": "code",
   "execution_count": 53,
   "id": "8ba01174-2b23-4791-829d-2238439850a3",
   "metadata": {},
   "outputs": [
    {
     "data": {
      "text/plain": [
       "[1.0, 1.4142135623730951, 1.7320508075688772, 2.0, 2.23606797749979]"
      ]
     },
     "execution_count": 53,
     "metadata": {},
     "output_type": "execute_result"
    }
   ],
   "source": [
    "# Even we can use functions\n",
    "\n",
    "import math\n",
    "list1 = [1,2,3,4,5]\n",
    "squred_list = [math.sqrt(i) for i in list1]\n",
    "squred_list"
   ]
  },
  {
   "cell_type": "code",
   "execution_count": null,
   "id": "219f10ae-e43f-48d2-92a8-e9d37b7c2db3",
   "metadata": {},
   "outputs": [],
   "source": []
  }
 ],
 "metadata": {
  "kernelspec": {
   "display_name": "Python 3 (ipykernel)",
   "language": "python",
   "name": "python3"
  },
  "language_info": {
   "codemirror_mode": {
    "name": "ipython",
    "version": 3
   },
   "file_extension": ".py",
   "mimetype": "text/x-python",
   "name": "python",
   "nbconvert_exporter": "python",
   "pygments_lexer": "ipython3",
   "version": "3.11.7"
  }
 },
 "nbformat": 4,
 "nbformat_minor": 5
}
